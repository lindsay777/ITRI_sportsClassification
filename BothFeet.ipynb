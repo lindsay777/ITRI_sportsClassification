{
 "cells": [
  {
   "cell_type": "code",
   "execution_count": 1,
   "metadata": {},
   "outputs": [],
   "source": [
    "import pandas as pd\n",
    "import numpy as np\n",
    "import os\n",
    "from os import listdir\n",
    "from os.path import isdir, isfile, join\n",
    "\n",
    "import peakutils\n",
    "import matplotlib.pyplot as plt\n",
    "from peakutils.plot import plot as pplot\n",
    "from sklearn.preprocessing import StandardScaler\n",
    "pd.options.mode.chained_assignment = None"
   ]
  },
  {
   "cell_type": "markdown",
   "metadata": {},
   "source": [
    "# preprocessing from each files "
   ]
  },
  {
   "cell_type": "code",
   "execution_count": 2,
   "metadata": {},
   "outputs": [],
   "source": [
    "def read_file(name, foot):\n",
    "    if foot == 'rightfoot':\n",
    "        _type = 'R'\n",
    "    if foot == 'leftfoot':\n",
    "        _type = 'L'\n",
    "        \n",
    "    fileName = name + \"/\" + foot + \"/acc.xls\"\n",
    "    df = pd.read_table(fileName,header=-1)\n",
    "    df['time']=df[0]\n",
    "    df['acc'+_type]=(df[1]**2 + df[2]**2 + df[3]**2)**(0.5)\n",
    "    df_acc = df[['time','acc'+_type]]\n",
    "    \n",
    "    fileName = name + \"/\" + foot + \"/Gyro.xls\"\n",
    "    df = pd.read_table(fileName,header=-1)\n",
    "    df['time']=df[0]\n",
    "    df['gyro'+_type]=(df[1]**2 + df[2]**2 + df[3]**2)**(0.5)\n",
    "    df_gyro = df[['time','gyro'+_type]]\n",
    "    \n",
    "    fileName = name + \"/\" + foot + \"/Center of gravity.xls\"\n",
    "    df = pd.read_table(fileName,header=-1)\n",
    "    df['time']=df[0]\n",
    "    df['gravity'+_type]=(df[1]**2 + df[2]**2)**(0.5)\n",
    "    df_cog = df[['time','gravity'+_type]]\n",
    "\n",
    "    fileName = name + \"/\" + foot + \"/Variation_total_pressure.xls\"\n",
    "    df = pd.read_table(fileName,header=-1)\n",
    "    df_vtp = df.rename(columns={df.columns[0]: 'time',df.columns[1]: 'votp'+_type})\n",
    "    y = df_vtp['votp'+_type]\n",
    "\n",
    "    df_all = df_acc.merge(df_gyro,on='time').merge(df_cog,on='time').merge(df_vtp,on='time')\n",
    "    return df_all"
   ]
  },
  {
   "cell_type": "code",
   "execution_count": 3,
   "metadata": {},
   "outputs": [],
   "source": [
    "def normalize(df_all):\n",
    "    StandardScaler(copy=True, with_mean=True, with_std=True)\n",
    "\n",
    "    scaler = StandardScaler()\n",
    "    # exclude time\n",
    "    scaler.fit_transform(df_all.iloc[:,1:])\n",
    "\n",
    "    df_all_columns = df_all.columns[1:]\n",
    "    x_scaled = scaler.transform(df_all.iloc[:,1:])\n",
    "\n",
    "    df_all.iloc[:,1:] = x_scaled\n",
    "    return df_all"
   ]
  },
  {
   "cell_type": "code",
   "execution_count": 4,
   "metadata": {},
   "outputs": [],
   "source": [
    "def peak_valley(df_all, foot, runner):\n",
    "    if foot == 'rightfoot':\n",
    "        _type = 'R'\n",
    "    if foot == 'leftfoot':\n",
    "        _type = 'L'\n",
    "\n",
    "    y = df_all['votp'+_type]\n",
    "    indexes = peakutils.indexes(y, thres=0.5, min_dist=22)\n",
    "    df_all['peak'+_type] = 0\n",
    "    df_all.loc[df_all.index[indexes], 'peak'+_type] = 1\n",
    "    peak = df_all.loc[df_all['peak'+_type]==1]\n",
    "\n",
    "    indexes = peakutils.indexes(-y, thres=0.5, min_dist=30)\n",
    "    df_all['valley'+_type]=0\n",
    "    df_all.loc[df_all.index[indexes], 'valley'+_type] = 1\n",
    "    valley = df_all.loc[df_all['valley'+_type]==1]\n",
    "    \n",
    "    fileName = runner + '_' + foot + '.csv'\n",
    "    df_all.to_csv(fileName, index = False)\n",
    "    fileList.append(fileName)\n",
    "    \n",
    "    return fileList    "
   ]
  },
  {
   "cell_type": "code",
   "execution_count": 5,
   "metadata": {},
   "outputs": [],
   "source": [
    "# get all runners' names from the folder\n",
    "runners = [i for i in [f for f in listdir('./') if isdir(join('./', f))] if i[0] != '.']\n",
    "feet = ['rightfoot', 'leftfoot']"
   ]
  },
  {
   "cell_type": "code",
   "execution_count": 6,
   "metadata": {},
   "outputs": [],
   "source": [
    "# use the functions to preprocess each runner\n",
    "fileList = []\n",
    "for runner in runners:\n",
    "    for foot in feet:\n",
    "        df_all = read_file(runner, foot)\n",
    "        df_all = normalize(df_all)\n",
    "        fileList = peak_valley(df_all, foot, runner)"
   ]
  },
  {
   "cell_type": "code",
   "execution_count": 7,
   "metadata": {},
   "outputs": [
    {
     "data": {
      "text/plain": [
       "['BinJoe_rightfoot.csv',\n",
       " 'BinJoe_leftfoot.csv',\n",
       " 'chanHon_rightfoot.csv',\n",
       " 'chanHon_leftfoot.csv',\n",
       " 'ChiSan_rightfoot.csv',\n",
       " 'ChiSan_leftfoot.csv',\n",
       " 'chunLin_rightfoot.csv',\n",
       " 'chunLin_leftfoot.csv',\n",
       " 'HuaiYu_rightfoot.csv',\n",
       " 'HuaiYu_leftfoot.csv',\n",
       " 'JiaLin_rightfoot.csv',\n",
       " 'JiaLin_leftfoot.csv',\n",
       " 'Pohan_rightfoot.csv',\n",
       " 'Pohan_leftfoot.csv',\n",
       " 'YuanChi_rightfoot.csv',\n",
       " 'YuanChi_leftfoot.csv']"
      ]
     },
     "execution_count": 7,
     "metadata": {},
     "output_type": "execute_result"
    }
   ],
   "source": [
    "fileList"
   ]
  },
  {
   "cell_type": "markdown",
   "metadata": {},
   "source": [
    "# combine left&right foot"
   ]
  },
  {
   "cell_type": "code",
   "execution_count": 469,
   "metadata": {},
   "outputs": [
    {
     "data": {
      "text/html": [
       "<div>\n",
       "<style scoped>\n",
       "    .dataframe tbody tr th:only-of-type {\n",
       "        vertical-align: middle;\n",
       "    }\n",
       "\n",
       "    .dataframe tbody tr th {\n",
       "        vertical-align: top;\n",
       "    }\n",
       "\n",
       "    .dataframe thead th {\n",
       "        text-align: right;\n",
       "    }\n",
       "</style>\n",
       "<table border=\"1\" class=\"dataframe\">\n",
       "  <thead>\n",
       "    <tr style=\"text-align: right;\">\n",
       "      <th></th>\n",
       "      <th>time</th>\n",
       "      <th>accR</th>\n",
       "      <th>gyroR</th>\n",
       "      <th>gravityR</th>\n",
       "      <th>votpR</th>\n",
       "      <th>peakR</th>\n",
       "      <th>valleyR</th>\n",
       "      <th>accL</th>\n",
       "      <th>gyroL</th>\n",
       "      <th>gravityL</th>\n",
       "      <th>votpL</th>\n",
       "      <th>peakL</th>\n",
       "      <th>valleyL</th>\n",
       "    </tr>\n",
       "  </thead>\n",
       "  <tbody>\n",
       "    <tr>\n",
       "      <th>3649</th>\n",
       "      <td>2018-07-17   14:36:50.564</td>\n",
       "      <td>-0.743104</td>\n",
       "      <td>-1.235290</td>\n",
       "      <td>0.008477</td>\n",
       "      <td>-0.034640</td>\n",
       "      <td>0</td>\n",
       "      <td>0</td>\n",
       "      <td>-0.769024</td>\n",
       "      <td>-1.203616</td>\n",
       "      <td>0.045662</td>\n",
       "      <td>1.033741</td>\n",
       "      <td>0</td>\n",
       "      <td>0</td>\n",
       "    </tr>\n",
       "    <tr>\n",
       "      <th>3650</th>\n",
       "      <td>2018-07-17   14:36:50.596</td>\n",
       "      <td>-0.743194</td>\n",
       "      <td>-1.235405</td>\n",
       "      <td>-0.004887</td>\n",
       "      <td>-0.040024</td>\n",
       "      <td>0</td>\n",
       "      <td>0</td>\n",
       "      <td>-0.769024</td>\n",
       "      <td>-1.203616</td>\n",
       "      <td>0.045662</td>\n",
       "      <td>1.033741</td>\n",
       "      <td>0</td>\n",
       "      <td>0</td>\n",
       "    </tr>\n",
       "    <tr>\n",
       "      <th>3651</th>\n",
       "      <td>2018-07-17   14:36:50.629</td>\n",
       "      <td>-0.743194</td>\n",
       "      <td>-1.235405</td>\n",
       "      <td>-0.004887</td>\n",
       "      <td>-0.040024</td>\n",
       "      <td>0</td>\n",
       "      <td>0</td>\n",
       "      <td>-0.773737</td>\n",
       "      <td>-1.207284</td>\n",
       "      <td>0.020026</td>\n",
       "      <td>1.039754</td>\n",
       "      <td>0</td>\n",
       "      <td>0</td>\n",
       "    </tr>\n",
       "    <tr>\n",
       "      <th>3652</th>\n",
       "      <td>2018-07-17   14:36:50.662</td>\n",
       "      <td>-0.742743</td>\n",
       "      <td>-1.238257</td>\n",
       "      <td>-0.004887</td>\n",
       "      <td>-0.057006</td>\n",
       "      <td>0</td>\n",
       "      <td>1</td>\n",
       "      <td>-0.774123</td>\n",
       "      <td>-1.207864</td>\n",
       "      <td>0.020026</td>\n",
       "      <td>1.043361</td>\n",
       "      <td>0</td>\n",
       "      <td>0</td>\n",
       "    </tr>\n",
       "    <tr>\n",
       "      <th>3653</th>\n",
       "      <td>2018-07-17   14:36:50.694</td>\n",
       "      <td>-0.742743</td>\n",
       "      <td>-1.238257</td>\n",
       "      <td>-0.004887</td>\n",
       "      <td>-0.057006</td>\n",
       "      <td>0</td>\n",
       "      <td>0</td>\n",
       "      <td>-0.771938</td>\n",
       "      <td>-1.205438</td>\n",
       "      <td>-0.005585</td>\n",
       "      <td>1.048172</td>\n",
       "      <td>0</td>\n",
       "      <td>0</td>\n",
       "    </tr>\n",
       "    <tr>\n",
       "      <th>3654</th>\n",
       "      <td>2018-07-17   14:36:50.727</td>\n",
       "      <td>-0.749381</td>\n",
       "      <td>-1.238811</td>\n",
       "      <td>-0.033533</td>\n",
       "      <td>-0.054934</td>\n",
       "      <td>0</td>\n",
       "      <td>0</td>\n",
       "      <td>-0.762696</td>\n",
       "      <td>-1.204159</td>\n",
       "      <td>-0.031172</td>\n",
       "      <td>1.056991</td>\n",
       "      <td>0</td>\n",
       "      <td>0</td>\n",
       "    </tr>\n",
       "    <tr>\n",
       "      <th>3655</th>\n",
       "      <td>2018-07-17   14:36:50.761</td>\n",
       "      <td>-0.749494</td>\n",
       "      <td>-1.237534</td>\n",
       "      <td>-0.062137</td>\n",
       "      <td>-0.054931</td>\n",
       "      <td>0</td>\n",
       "      <td>0</td>\n",
       "      <td>-0.772572</td>\n",
       "      <td>-1.203509</td>\n",
       "      <td>-0.031172</td>\n",
       "      <td>1.067413</td>\n",
       "      <td>0</td>\n",
       "      <td>0</td>\n",
       "    </tr>\n",
       "    <tr>\n",
       "      <th>3656</th>\n",
       "      <td>2018-07-17   14:36:50.793</td>\n",
       "      <td>-0.749494</td>\n",
       "      <td>-1.237534</td>\n",
       "      <td>-0.062137</td>\n",
       "      <td>-0.054931</td>\n",
       "      <td>0</td>\n",
       "      <td>0</td>\n",
       "      <td>-0.761986</td>\n",
       "      <td>-1.199983</td>\n",
       "      <td>-0.056732</td>\n",
       "      <td>1.076633</td>\n",
       "      <td>0</td>\n",
       "      <td>0</td>\n",
       "    </tr>\n",
       "  </tbody>\n",
       "</table>\n",
       "</div>"
      ],
      "text/plain": [
       "                           time      accR     gyroR  gravityR     votpR  \\\n",
       "3649  2018-07-17   14:36:50.564 -0.743104 -1.235290  0.008477 -0.034640   \n",
       "3650  2018-07-17   14:36:50.596 -0.743194 -1.235405 -0.004887 -0.040024   \n",
       "3651  2018-07-17   14:36:50.629 -0.743194 -1.235405 -0.004887 -0.040024   \n",
       "3652  2018-07-17   14:36:50.662 -0.742743 -1.238257 -0.004887 -0.057006   \n",
       "3653  2018-07-17   14:36:50.694 -0.742743 -1.238257 -0.004887 -0.057006   \n",
       "3654  2018-07-17   14:36:50.727 -0.749381 -1.238811 -0.033533 -0.054934   \n",
       "3655  2018-07-17   14:36:50.761 -0.749494 -1.237534 -0.062137 -0.054931   \n",
       "3656  2018-07-17   14:36:50.793 -0.749494 -1.237534 -0.062137 -0.054931   \n",
       "\n",
       "      peakR  valleyR      accL     gyroL  gravityL     votpL  peakL  valleyL  \n",
       "3649      0        0 -0.769024 -1.203616  0.045662  1.033741      0        0  \n",
       "3650      0        0 -0.769024 -1.203616  0.045662  1.033741      0        0  \n",
       "3651      0        0 -0.773737 -1.207284  0.020026  1.039754      0        0  \n",
       "3652      0        1 -0.774123 -1.207864  0.020026  1.043361      0        0  \n",
       "3653      0        0 -0.771938 -1.205438 -0.005585  1.048172      0        0  \n",
       "3654      0        0 -0.762696 -1.204159 -0.031172  1.056991      0        0  \n",
       "3655      0        0 -0.772572 -1.203509 -0.031172  1.067413      0        0  \n",
       "3656      0        0 -0.761986 -1.199983 -0.056732  1.076633      0        0  "
      ]
     },
     "execution_count": 469,
     "metadata": {},
     "output_type": "execute_result"
    }
   ],
   "source": [
    "dfAll = pd.DataFrame()\n",
    "dfLeft = pd.read_csv(fileList[2])\n",
    "dfRight = pd.read_csv(fileList[3])\n",
    "dfAll = dfLeft.merge(dfRight,on='time')\n",
    "dfAll.tail(8)"
   ]
  },
  {
   "cell_type": "markdown",
   "metadata": {},
   "source": [
    "# Split Cycle"
   ]
  },
  {
   "cell_type": "code",
   "execution_count": 470,
   "metadata": {},
   "outputs": [
    {
     "data": {
      "text/html": [
       "<div>\n",
       "<style scoped>\n",
       "    .dataframe tbody tr th:only-of-type {\n",
       "        vertical-align: middle;\n",
       "    }\n",
       "\n",
       "    .dataframe tbody tr th {\n",
       "        vertical-align: top;\n",
       "    }\n",
       "\n",
       "    .dataframe thead th {\n",
       "        text-align: right;\n",
       "    }\n",
       "</style>\n",
       "<table border=\"1\" class=\"dataframe\">\n",
       "  <thead>\n",
       "    <tr style=\"text-align: right;\">\n",
       "      <th></th>\n",
       "      <th>time</th>\n",
       "      <th>startIndex</th>\n",
       "      <th>endIndex</th>\n",
       "    </tr>\n",
       "  </thead>\n",
       "  <tbody>\n",
       "    <tr>\n",
       "      <th>0</th>\n",
       "      <td>2018-07-17   14:34:50.146</td>\n",
       "      <td>0.0</td>\n",
       "      <td>29.0</td>\n",
       "    </tr>\n",
       "    <tr>\n",
       "      <th>1</th>\n",
       "      <td>2018-07-17   14:34:51.102</td>\n",
       "      <td>29.0</td>\n",
       "      <td>47.0</td>\n",
       "    </tr>\n",
       "    <tr>\n",
       "      <th>2</th>\n",
       "      <td>2018-07-17   14:34:51.697</td>\n",
       "      <td>47.0</td>\n",
       "      <td>61.0</td>\n",
       "    </tr>\n",
       "    <tr>\n",
       "      <th>3</th>\n",
       "      <td>2018-07-17   14:34:52.158</td>\n",
       "      <td>61.0</td>\n",
       "      <td>77.0</td>\n",
       "    </tr>\n",
       "    <tr>\n",
       "      <th>4</th>\n",
       "      <td>2018-07-17   14:34:52.688</td>\n",
       "      <td>77.0</td>\n",
       "      <td>96.0</td>\n",
       "    </tr>\n",
       "  </tbody>\n",
       "</table>\n",
       "</div>"
      ],
      "text/plain": [
       "                        time  startIndex  endIndex\n",
       "0  2018-07-17   14:34:50.146         0.0      29.0\n",
       "1  2018-07-17   14:34:51.102        29.0      47.0\n",
       "2  2018-07-17   14:34:51.697        47.0      61.0\n",
       "3  2018-07-17   14:34:52.158        61.0      77.0\n",
       "4  2018-07-17   14:34:52.688        77.0      96.0"
      ]
     },
     "execution_count": 470,
     "metadata": {},
     "output_type": "execute_result"
    }
   ],
   "source": [
    "wave = pd.DataFrame()\n",
    "period_index = dfAll.index.values\n",
    "\n",
    "for i in range(len(period_index)):\n",
    "    if i == 0:\n",
    "        wave.loc[i, 'time'] = dfAll['time'][0]\n",
    "        wave.loc[i, 'startIndex'] = period_index[i]\n",
    "    elif i == len(period_index)-2:\n",
    "        wave.loc[i, 'time'] = dfAll['time'][i]\n",
    "        wave.loc[i, 'startIndex'] = (len(period_index)-1)\n",
    "    elif i == len(period_index)-1:\n",
    "        wave.loc[i, 'time'] = dfAll['time'][i]\n",
    "        wave.loc[i, 'startIndex'] = (len(period_index)-1)\n",
    "    else:\n",
    "        if dfAll['votpR'][i]<dfAll['votpL'][i] and dfAll['votpR'][i+1]>dfAll['votpL'][i+1]:\n",
    "            wave.loc[i, 'time'] = dfAll['time'][period_index[i]]\n",
    "            wave.loc[i, 'startIndex'] = period_index[i]\n",
    "        if dfAll['votpR'][i]>dfAll['votpL'][i] and dfAll['votpR'][i+1]<dfAll['votpL'][i+1]:\n",
    "            wave.loc[i, 'time'] = dfAll['time'][period_index[i]]\n",
    "            wave.loc[i, 'startIndex'] = period_index[i]\n",
    "\n",
    "wave = wave.reset_index(drop=True)\n",
    "row_index = wave.index.values\n",
    "\n",
    "for row in range(len(wave)-2):\n",
    "    wave.loc[row, 'endIndex'] = wave['startIndex'][row+1]\n",
    "\n",
    "wave = wave[:-2]\n",
    "wave.head()"
   ]
  },
  {
   "cell_type": "code",
   "execution_count": 471,
   "metadata": {},
   "outputs": [],
   "source": [
    "# add feature \n",
    "from datetime import datetime\n",
    "\n",
    "row_index = wave.index.values\n",
    "for i in range(len(row_index)):\n",
    "    wave.loc[i, 'indexDiff'] = wave['endIndex'][i] - wave['startIndex'][i]\n",
    "    wave.loc[i, 'indexInverse'] = 1/wave['indexDiff'][i]\n",
    "    start = int(wave['startIndex'][i])\n",
    "    end = int(wave['endIndex'][i])\n",
    "    \n",
    "    startTime = datetime.strptime(dfAll['time'][start], '%Y-%m-%d %H:%M:%S.%f')\n",
    "    endTime = datetime.strptime(dfAll['time'][end], '%Y-%m-%d %H:%M:%S.%f')\n",
    "    duration = str(endTime - startTime)\n",
    "    duration = ''.join(list(duration)[6:-3])\n",
    "    wave.loc[i, 'duration'] = duration\n",
    "    wave.loc[i, 'frequency'] = 1/float(wave['duration'][i])\n",
    "    wave.loc[i, 'votpMean'] = (dfAll['votpR'][start:end].values+dfAll['votpL'][start:end].values).mean()\n",
    "    wave.loc[i, 'max'] = max(dfAll['votpR'][start:end].values)\n",
    "    wave.loc[i, 'maxL'] = max(dfAll['votpL'][start:end].values)\n",
    "    wave.loc[i, 'min'] = min(dfAll['votpR'][start:end].values)\n",
    "    wave.loc[i, 'minL'] = min(dfAll['votpL'][start:end].values)\n",
    "    if wave['maxL'][i] > wave['max'][i]:\n",
    "        wave['max'][i] = wave['maxL'][i]\n",
    "    if wave['minL'][i] < wave['min'][i]:\n",
    "        wave['min'][i] = wave['minL'][i]\n",
    "wave.drop(columns=['maxL','minL'], inplace=True) \n",
    "wave['speed'] = (wave['max']-wave['min'])/wave['indexDiff']"
   ]
  },
  {
   "cell_type": "code",
   "execution_count": 472,
   "metadata": {},
   "outputs": [
    {
     "data": {
      "text/html": [
       "<div>\n",
       "<style scoped>\n",
       "    .dataframe tbody tr th:only-of-type {\n",
       "        vertical-align: middle;\n",
       "    }\n",
       "\n",
       "    .dataframe tbody tr th {\n",
       "        vertical-align: top;\n",
       "    }\n",
       "\n",
       "    .dataframe thead th {\n",
       "        text-align: right;\n",
       "    }\n",
       "</style>\n",
       "<table border=\"1\" class=\"dataframe\">\n",
       "  <thead>\n",
       "    <tr style=\"text-align: right;\">\n",
       "      <th></th>\n",
       "      <th>time</th>\n",
       "      <th>startIndex</th>\n",
       "      <th>endIndex</th>\n",
       "      <th>indexDiff</th>\n",
       "      <th>indexInverse</th>\n",
       "      <th>duration</th>\n",
       "      <th>frequency</th>\n",
       "      <th>votpMean</th>\n",
       "      <th>max</th>\n",
       "      <th>min</th>\n",
       "      <th>speed</th>\n",
       "    </tr>\n",
       "  </thead>\n",
       "  <tbody>\n",
       "    <tr>\n",
       "      <th>0</th>\n",
       "      <td>2018-07-17   14:34:50.146</td>\n",
       "      <td>0.0</td>\n",
       "      <td>29.0</td>\n",
       "      <td>29.0</td>\n",
       "      <td>0.034483</td>\n",
       "      <td>0.956</td>\n",
       "      <td>1.046025</td>\n",
       "      <td>0.254948</td>\n",
       "      <td>1.121705</td>\n",
       "      <td>-1.071780</td>\n",
       "      <td>0.075637</td>\n",
       "    </tr>\n",
       "    <tr>\n",
       "      <th>1</th>\n",
       "      <td>2018-07-17   14:34:51.102</td>\n",
       "      <td>29.0</td>\n",
       "      <td>47.0</td>\n",
       "      <td>18.0</td>\n",
       "      <td>0.055556</td>\n",
       "      <td>0.595</td>\n",
       "      <td>1.680672</td>\n",
       "      <td>0.164928</td>\n",
       "      <td>1.302003</td>\n",
       "      <td>-1.073872</td>\n",
       "      <td>0.131993</td>\n",
       "    </tr>\n",
       "    <tr>\n",
       "      <th>2</th>\n",
       "      <td>2018-07-17   14:34:51.697</td>\n",
       "      <td>47.0</td>\n",
       "      <td>61.0</td>\n",
       "      <td>14.0</td>\n",
       "      <td>0.071429</td>\n",
       "      <td>0.461</td>\n",
       "      <td>2.169197</td>\n",
       "      <td>-0.287956</td>\n",
       "      <td>1.031466</td>\n",
       "      <td>-1.088348</td>\n",
       "      <td>0.151415</td>\n",
       "    </tr>\n",
       "    <tr>\n",
       "      <th>3</th>\n",
       "      <td>2018-07-17   14:34:52.158</td>\n",
       "      <td>61.0</td>\n",
       "      <td>77.0</td>\n",
       "      <td>16.0</td>\n",
       "      <td>0.062500</td>\n",
       "      <td>0.530</td>\n",
       "      <td>1.886792</td>\n",
       "      <td>0.219343</td>\n",
       "      <td>1.329694</td>\n",
       "      <td>-1.070666</td>\n",
       "      <td>0.150022</td>\n",
       "    </tr>\n",
       "    <tr>\n",
       "      <th>4</th>\n",
       "      <td>2018-07-17   14:34:52.688</td>\n",
       "      <td>77.0</td>\n",
       "      <td>96.0</td>\n",
       "      <td>19.0</td>\n",
       "      <td>0.052632</td>\n",
       "      <td>0.625</td>\n",
       "      <td>1.600000</td>\n",
       "      <td>0.132432</td>\n",
       "      <td>1.436638</td>\n",
       "      <td>-1.102844</td>\n",
       "      <td>0.133657</td>\n",
       "    </tr>\n",
       "  </tbody>\n",
       "</table>\n",
       "</div>"
      ],
      "text/plain": [
       "                        time  startIndex  endIndex  indexDiff  indexInverse  \\\n",
       "0  2018-07-17   14:34:50.146         0.0      29.0       29.0      0.034483   \n",
       "1  2018-07-17   14:34:51.102        29.0      47.0       18.0      0.055556   \n",
       "2  2018-07-17   14:34:51.697        47.0      61.0       14.0      0.071429   \n",
       "3  2018-07-17   14:34:52.158        61.0      77.0       16.0      0.062500   \n",
       "4  2018-07-17   14:34:52.688        77.0      96.0       19.0      0.052632   \n",
       "\n",
       "  duration  frequency  votpMean       max       min     speed  \n",
       "0    0.956   1.046025  0.254948  1.121705 -1.071780  0.075637  \n",
       "1    0.595   1.680672  0.164928  1.302003 -1.073872  0.131993  \n",
       "2    0.461   2.169197 -0.287956  1.031466 -1.088348  0.151415  \n",
       "3    0.530   1.886792  0.219343  1.329694 -1.070666  0.150022  \n",
       "4    0.625   1.600000  0.132432  1.436638 -1.102844  0.133657  "
      ]
     },
     "execution_count": 472,
     "metadata": {},
     "output_type": "execute_result"
    }
   ],
   "source": [
    "wave.head()"
   ]
  },
  {
   "cell_type": "code",
   "execution_count": 473,
   "metadata": {},
   "outputs": [],
   "source": [
    "# add feature: acc and gyro\n",
    "#acc: each foot has x,y,z three value, combine by square sum root, and add two feet together\n",
    "#_acc: count peak and valley for acc\n",
    "#accMean: calculate mean\n",
    "dfAll['acc'] = dfAll['accL']+dfAll['accR']\n",
    "dfAll['gyro'] = dfAll['gyroL']+dfAll['gyroR']\n",
    "dfAll['gravity'] = dfAll['gravityL']+dfAll['gravityR']\n",
    "\n",
    "accPeak = peakutils.indexes(dfAll[\"acc\"], thres=0.001, min_dist=2.5)\n",
    "accValley = peakutils.indexes(-dfAll[\"acc\"], thres=0.001, min_dist=2.5)\n",
    "accIndex = np.concatenate((accPeak, accValley), axis=None)\n",
    "\n",
    "gyroPeak = peakutils.indexes(dfAll[\"gyro\"], thres=0.001, min_dist=2.5)\n",
    "gyroValley = peakutils.indexes(-dfAll[\"gyro\"], thres=0.001, min_dist=2.5)\n",
    "gyroIndex = np.concatenate((gyroPeak, gyroValley), axis=None)"
   ]
  },
  {
   "cell_type": "code",
   "execution_count": 474,
   "metadata": {},
   "outputs": [
    {
     "data": {
      "text/html": [
       "<div>\n",
       "<style scoped>\n",
       "    .dataframe tbody tr th:only-of-type {\n",
       "        vertical-align: middle;\n",
       "    }\n",
       "\n",
       "    .dataframe tbody tr th {\n",
       "        vertical-align: top;\n",
       "    }\n",
       "\n",
       "    .dataframe thead th {\n",
       "        text-align: right;\n",
       "    }\n",
       "</style>\n",
       "<table border=\"1\" class=\"dataframe\">\n",
       "  <thead>\n",
       "    <tr style=\"text-align: right;\">\n",
       "      <th></th>\n",
       "      <th>time</th>\n",
       "      <th>startIndex</th>\n",
       "      <th>endIndex</th>\n",
       "      <th>indexDiff</th>\n",
       "      <th>indexInverse</th>\n",
       "      <th>duration</th>\n",
       "      <th>frequency</th>\n",
       "      <th>votpMean</th>\n",
       "      <th>max</th>\n",
       "      <th>min</th>\n",
       "      <th>speed</th>\n",
       "      <th>_acc</th>\n",
       "      <th>_gyro</th>\n",
       "      <th>accMean</th>\n",
       "      <th>speedVariation</th>\n",
       "      <th>gyroMean</th>\n",
       "      <th>gyroSpeed</th>\n",
       "      <th>gravityspeed</th>\n",
       "    </tr>\n",
       "  </thead>\n",
       "  <tbody>\n",
       "    <tr>\n",
       "      <th>226</th>\n",
       "      <td>2018-07-17   14:36:43.171</td>\n",
       "      <td>3425.0</td>\n",
       "      <td>3441.0</td>\n",
       "      <td>16.0</td>\n",
       "      <td>0.062500</td>\n",
       "      <td>0.527</td>\n",
       "      <td>1.897533</td>\n",
       "      <td>-0.105628</td>\n",
       "      <td>0.857958</td>\n",
       "      <td>-1.093318</td>\n",
       "      <td>0.121955</td>\n",
       "      <td>7</td>\n",
       "      <td>6</td>\n",
       "      <td>1.017787</td>\n",
       "      <td>16.284594</td>\n",
       "      <td>0.671374</td>\n",
       "      <td>10.741985</td>\n",
       "      <td>1.145291</td>\n",
       "    </tr>\n",
       "    <tr>\n",
       "      <th>227</th>\n",
       "      <td>2018-07-17   14:36:43.698</td>\n",
       "      <td>3441.0</td>\n",
       "      <td>3539.0</td>\n",
       "      <td>98.0</td>\n",
       "      <td>0.010204</td>\n",
       "      <td>3.234</td>\n",
       "      <td>0.309215</td>\n",
       "      <td>0.251708</td>\n",
       "      <td>1.125179</td>\n",
       "      <td>-1.077881</td>\n",
       "      <td>0.022480</td>\n",
       "      <td>36</td>\n",
       "      <td>32</td>\n",
       "      <td>1.440741</td>\n",
       "      <td>141.192603</td>\n",
       "      <td>1.981095</td>\n",
       "      <td>194.147302</td>\n",
       "      <td>1.775046</td>\n",
       "    </tr>\n",
       "    <tr>\n",
       "      <th>228</th>\n",
       "      <td>2018-07-17   14:36:46.932</td>\n",
       "      <td>3539.0</td>\n",
       "      <td>3563.0</td>\n",
       "      <td>24.0</td>\n",
       "      <td>0.041667</td>\n",
       "      <td>0.794</td>\n",
       "      <td>1.259446</td>\n",
       "      <td>0.521468</td>\n",
       "      <td>1.557328</td>\n",
       "      <td>-1.108643</td>\n",
       "      <td>0.111082</td>\n",
       "      <td>12</td>\n",
       "      <td>8</td>\n",
       "      <td>1.364170</td>\n",
       "      <td>32.740091</td>\n",
       "      <td>1.784403</td>\n",
       "      <td>42.825677</td>\n",
       "      <td>0.818125</td>\n",
       "    </tr>\n",
       "    <tr>\n",
       "      <th>229</th>\n",
       "      <td>2018-07-17   14:36:47.726</td>\n",
       "      <td>3563.0</td>\n",
       "      <td>3606.0</td>\n",
       "      <td>43.0</td>\n",
       "      <td>0.023256</td>\n",
       "      <td>1.418</td>\n",
       "      <td>0.705219</td>\n",
       "      <td>0.226170</td>\n",
       "      <td>1.164972</td>\n",
       "      <td>-1.085096</td>\n",
       "      <td>0.052327</td>\n",
       "      <td>16</td>\n",
       "      <td>12</td>\n",
       "      <td>1.446166</td>\n",
       "      <td>62.185157</td>\n",
       "      <td>1.758863</td>\n",
       "      <td>75.631097</td>\n",
       "      <td>0.765656</td>\n",
       "    </tr>\n",
       "    <tr>\n",
       "      <th>230</th>\n",
       "      <td>2018-07-17   14:36:49.144</td>\n",
       "      <td>3606.0</td>\n",
       "      <td>3656.0</td>\n",
       "      <td>50.0</td>\n",
       "      <td>0.020000</td>\n",
       "      <td>1.649</td>\n",
       "      <td>0.606428</td>\n",
       "      <td>0.805507</td>\n",
       "      <td>1.451165</td>\n",
       "      <td>-1.029947</td>\n",
       "      <td>0.049622</td>\n",
       "      <td>21</td>\n",
       "      <td>13</td>\n",
       "      <td>1.500621</td>\n",
       "      <td>75.031047</td>\n",
       "      <td>2.252526</td>\n",
       "      <td>112.626321</td>\n",
       "      <td>0.776716</td>\n",
       "    </tr>\n",
       "  </tbody>\n",
       "</table>\n",
       "</div>"
      ],
      "text/plain": [
       "                          time  startIndex  endIndex  indexDiff  indexInverse  \\\n",
       "226  2018-07-17   14:36:43.171      3425.0    3441.0       16.0      0.062500   \n",
       "227  2018-07-17   14:36:43.698      3441.0    3539.0       98.0      0.010204   \n",
       "228  2018-07-17   14:36:46.932      3539.0    3563.0       24.0      0.041667   \n",
       "229  2018-07-17   14:36:47.726      3563.0    3606.0       43.0      0.023256   \n",
       "230  2018-07-17   14:36:49.144      3606.0    3656.0       50.0      0.020000   \n",
       "\n",
       "    duration  frequency  votpMean       max       min     speed  _acc  _gyro  \\\n",
       "226    0.527   1.897533 -0.105628  0.857958 -1.093318  0.121955     7      6   \n",
       "227    3.234   0.309215  0.251708  1.125179 -1.077881  0.022480    36     32   \n",
       "228    0.794   1.259446  0.521468  1.557328 -1.108643  0.111082    12      8   \n",
       "229    1.418   0.705219  0.226170  1.164972 -1.085096  0.052327    16     12   \n",
       "230    1.649   0.606428  0.805507  1.451165 -1.029947  0.049622    21     13   \n",
       "\n",
       "      accMean  speedVariation  gyroMean   gyroSpeed  gravityspeed  \n",
       "226  1.017787       16.284594  0.671374   10.741985      1.145291  \n",
       "227  1.440741      141.192603  1.981095  194.147302      1.775046  \n",
       "228  1.364170       32.740091  1.784403   42.825677      0.818125  \n",
       "229  1.446166       62.185157  1.758863   75.631097      0.765656  \n",
       "230  1.500621       75.031047  2.252526  112.626321      0.776716  "
      ]
     },
     "execution_count": 474,
     "metadata": {},
     "output_type": "execute_result"
    }
   ],
   "source": [
    "wave['_acc']=0\n",
    "wave['_gyro']=0\n",
    "\n",
    "for i in range(len(row_index)):\n",
    "    start = int(wave['startIndex'][i])\n",
    "    end = int(wave['endIndex'][i])\n",
    "    wave.loc[i, 'accMean'] = np.absolute(dfAll['acc'][start:end].values).mean() #平均加速度\n",
    "    wave.loc[i, 'speedVariation'] = np.absolute(dfAll['acc'][start:end].values).sum() #速度變化量\n",
    "    wave.loc[i, 'gyroMean'] = np.absolute(dfAll['gyro'][start:end].values).mean()\n",
    "    wave.loc[i, 'gyroSpeed'] = np.absolute(dfAll['gyro'][start:end].values).sum()\n",
    "    wave.loc[i, 'gravityspeed'] = np.absolute(dfAll['gravity'][start:end].values).mean()\n",
    "    for j in accIndex:\n",
    "        if start<=j and j<end:\n",
    "            wave['_acc'][i]+=1\n",
    "    for j in gyroIndex:\n",
    "        if start<=j and j<end:\n",
    "            wave['_gyro'][i]+=1\n",
    "wave.tail()"
   ]
  },
  {
   "cell_type": "code",
   "execution_count": 475,
   "metadata": {},
   "outputs": [
    {
     "data": {
      "image/png": "[encoded data removed]",
      "text/plain": [
       "<Figure size 1152x288 with 1 Axes>"
      ]
     },
     "metadata": {},
     "output_type": "display_data"
    }
   ],
   "source": [
    "plt.figure(figsize=(16,4))\n",
    "plt.plot(wave['votpMean'],'.', color='r')\n",
    "#plt.yticks(list(set(wave['y_pred'])))\n",
    "plt.show()"
   ]
  },
  {
   "cell_type": "markdown",
   "metadata": {},
   "source": [
    "# Apply Model"
   ]
  },
  {
   "cell_type": "code",
   "execution_count": 476,
   "metadata": {},
   "outputs": [
    {
     "name": "stderr",
     "output_type": "stream",
     "text": [
      "D:\\Users\\Lindsay\\Anaconda3\\envs\\tensorflow\\lib\\site-packages\\sklearn\\preprocessing\\data.py:625: DataConversionWarning: Data with input dtype int64, float64, object were all converted to float64 by StandardScaler.\n",
      "  return self.partial_fit(X, y)\n",
      "D:\\Users\\Lindsay\\Anaconda3\\envs\\tensorflow\\lib\\site-packages\\sklearn\\base.py:462: DataConversionWarning: Data with input dtype int64, float64, object were all converted to float64 by StandardScaler.\n",
      "  return self.fit(X, **fit_params).transform(X)\n"
     ]
    }
   ],
   "source": [
    "from sklearn.preprocessing import StandardScaler\n",
    "sc = StandardScaler()\n",
    "X_std = sc.fit_transform(wave.iloc[:,3:])"
   ]
  },
  {
   "cell_type": "code",
   "execution_count": 477,
   "metadata": {},
   "outputs": [],
   "source": [
    "# outlier preprocessing\n",
    "from sklearn.ensemble import IsolationForest\n",
    "clf = IsolationForest(behaviour='new', max_samples='auto', contamination='auto')\n",
    "outlier = clf.fit_predict(X_std)"
   ]
  },
  {
   "cell_type": "code",
   "execution_count": null,
   "metadata": {},
   "outputs": [],
   "source": []
  },
  {
   "cell_type": "markdown",
   "metadata": {},
   "source": [
    "# K-means"
   ]
  },
  {
   "cell_type": "code",
   "execution_count": 478,
   "metadata": {},
   "outputs": [],
   "source": [
    "# y_pred: default is (-2), outlier is (-1), predict results range from 0-2\n",
    "wave['y_pred'] = -2\n",
    "for index, value in enumerate(outlier):\n",
    "    if value == -1:\n",
    "        wave['y_pred'][index] = -1\n",
    "# split outlier and predict data \n",
    "dfOutlier = wave.copy()\n",
    "dfOutlier = dfOutlier[dfOutlier.y_pred == -1]\n",
    "dfPredict = wave.copy()\n",
    "dfPredict = dfPredict[dfPredict.y_pred == -2]"
   ]
  },
  {
   "cell_type": "code",
   "execution_count": 479,
   "metadata": {},
   "outputs": [],
   "source": [
    "# run kmeans model\n",
    "from sklearn.cluster import KMeans\n",
    "X_std = dfPredict.iloc[:,3:]\n",
    "clusterNum = 3\n",
    "km = KMeans(clusterNum) \n",
    "y_pred = km.fit_predict(X_std)\n",
    "# fill in predict result\n",
    "for i in range(len(dfPredict)):\n",
    "    dfPredict['y_pred'][dfPredict.index.values[i]] = y_pred[i]"
   ]
  },
  {
   "cell_type": "code",
   "execution_count": 480,
   "metadata": {},
   "outputs": [],
   "source": [
    "# sort the predict cluster order \n",
    "cluster = [[0 for x in range(3)] for y in range(clusterNum)] \n",
    "for i in range(clusterNum):\n",
    "    cluster[i][0] = dfPredict[dfPredict['y_pred'] == i].index.values\n",
    "    cluster[i][1] = dfPredict[dfPredict['y_pred'] == i]['max'].mean()\n",
    "    cluster[i][2] = i\n",
    "\n",
    "def getKey(item):\n",
    "    return item[1]\n",
    "cluster = sorted(cluster, key=getKey)\n",
    "\n",
    "for i in range(clusterNum):\n",
    "    dfPredict.loc[cluster[i][0], 'y_pred'] = i"
   ]
  },
  {
   "cell_type": "code",
   "execution_count": 481,
   "metadata": {},
   "outputs": [],
   "source": [
    "wave = dfPredict.append(dfOutlier)\n",
    "wave = wave.sort_index()\n",
    "# add +1 to each y_pred so that the result will change from -1~2 to 0-3\n",
    "for i in range(len(wave)):\n",
    "    wave.loc[i, 'y_pred'] = wave['y_pred'][i]+1"
   ]
  },
  {
   "cell_type": "code",
   "execution_count": 484,
   "metadata": {},
   "outputs": [
    {
     "data": {
      "image/png": "[encoded data removed]",
      "text/plain": [
       "<Figure size 1152x288 with 1 Axes>"
      ]
     },
     "metadata": {},
     "output_type": "display_data"
    }
   ],
   "source": [
    "plt.figure(figsize=(16,4))\n",
    "plt.plot(wave['y_pred'],'.', color='r')\n",
    "plt.yticks(list(set(wave['y_pred'])))\n",
    "plt.show()"
   ]
  },
  {
   "cell_type": "code",
   "execution_count": 58,
   "metadata": {},
   "outputs": [],
   "source": [
    "# # loop 每個點 x 如果 前後(x+1,x-1)都是同一類   ((也可以延長到 x+2 +3 之累的\n",
    "# # 但 x 不同類 改成 x+1的類別\n",
    "# for index,element in enumerate(y_pred):\n",
    "#     if index > 2 and index < len(y_pred)-2:\n",
    "#         if y_pred[index-2] == y_pred[index-1] and y_pred[index-1] == y_pred[index+1] and y_pred[index+1] == y_pred[index+2] and y_pred[index-1] != element:\n",
    "#             y_pred[index] = y_pred[index-1]\n",
    "#         if y_pred[index-1] != y_pred[index] and y_pred[index] != y_pred[index+1]:\n",
    "#             y_pred[index] = 0"
   ]
  },
  {
   "cell_type": "code",
   "execution_count": 60,
   "metadata": {},
   "outputs": [],
   "source": [
    "# wave[['startIndex','y_pred']].to_csv(\"result_wave.csv\")\n",
    "# df0 = pd.read_csv(\"result_wave.csv\")\n",
    "# df0 = df0.drop(['Unnamed: 0'], axis=1)\n",
    "# df0.head(),df0.shape"
   ]
  },
  {
   "cell_type": "code",
   "execution_count": 88,
   "metadata": {},
   "outputs": [
    {
     "data": {
      "text/plain": [
       "<matplotlib.axes._subplots.AxesSubplot at 0x27ca0c23438>"
      ]
     },
     "execution_count": 88,
     "metadata": {},
     "output_type": "execute_result"
    },
    {
     "data": {
      "image/png": "[encoded data removed]",
      "text/plain": [
       "<Figure size 1152x288 with 1 Axes>"
      ]
     },
     "metadata": {},
     "output_type": "display_data"
    }
   ],
   "source": [
    "import seaborn as sns\n",
    "plt.figure(figsize=(16,4))\n",
    "sns.swarmplot(x=wave['startIndex'], y=wave['y_pred'])"
   ]
  },
  {
   "cell_type": "code",
   "execution_count": 230,
   "metadata": {},
   "outputs": [],
   "source": [
    "# put the result from wave to dfAll\n",
    "for i in range(len(wave)-2):\n",
    "    start = int(wave['startIndex'][i])\n",
    "    end = int(wave['endIndex'][i])\n",
    "    y_pred = int(wave['y_pred'][i])\n",
    "    dfAll['y_pred'][start:end] = y_pred"
   ]
  },
  {
   "cell_type": "code",
   "execution_count": 238,
   "metadata": {},
   "outputs": [],
   "source": [
    "# dfAll[['time','y_pred']].to_csv(\"result_chanHon_kmeans.csv\")"
   ]
  },
  {
   "cell_type": "code",
   "execution_count": 430,
   "metadata": {},
   "outputs": [
    {
     "data": {
      "text/html": [
       "<div>\n",
       "<style scoped>\n",
       "    .dataframe tbody tr th:only-of-type {\n",
       "        vertical-align: middle;\n",
       "    }\n",
       "\n",
       "    .dataframe tbody tr th {\n",
       "        vertical-align: top;\n",
       "    }\n",
       "\n",
       "    .dataframe thead th {\n",
       "        text-align: right;\n",
       "    }\n",
       "</style>\n",
       "<table border=\"1\" class=\"dataframe\">\n",
       "  <thead>\n",
       "    <tr style=\"text-align: right;\">\n",
       "      <th></th>\n",
       "      <th>time</th>\n",
       "      <th>y</th>\n",
       "      <th>_y</th>\n",
       "      <th>y_pred</th>\n",
       "    </tr>\n",
       "  </thead>\n",
       "  <tbody>\n",
       "    <tr>\n",
       "      <th>0</th>\n",
       "      <td>34:50.1</td>\n",
       "      <td>0</td>\n",
       "      <td>0</td>\n",
       "      <td>0</td>\n",
       "    </tr>\n",
       "    <tr>\n",
       "      <th>1</th>\n",
       "      <td>34:50.2</td>\n",
       "      <td>0</td>\n",
       "      <td>0</td>\n",
       "      <td>0</td>\n",
       "    </tr>\n",
       "    <tr>\n",
       "      <th>2</th>\n",
       "      <td>34:50.2</td>\n",
       "      <td>0</td>\n",
       "      <td>0</td>\n",
       "      <td>0</td>\n",
       "    </tr>\n",
       "    <tr>\n",
       "      <th>3</th>\n",
       "      <td>34:50.2</td>\n",
       "      <td>0</td>\n",
       "      <td>0</td>\n",
       "      <td>0</td>\n",
       "    </tr>\n",
       "    <tr>\n",
       "      <th>4</th>\n",
       "      <td>34:50.3</td>\n",
       "      <td>0</td>\n",
       "      <td>0</td>\n",
       "      <td>0</td>\n",
       "    </tr>\n",
       "  </tbody>\n",
       "</table>\n",
       "</div>"
      ],
      "text/plain": [
       "      time  y  _y  y_pred\n",
       "0  34:50.1  0   0       0\n",
       "1  34:50.2  0   0       0\n",
       "2  34:50.2  0   0       0\n",
       "3  34:50.2  0   0       0\n",
       "4  34:50.3  0   0       0"
      ]
     },
     "execution_count": 430,
     "metadata": {},
     "output_type": "execute_result"
    }
   ],
   "source": [
    "dfResult = pd.read_csv(\"result_chanHon_kmeans.csv\").drop(['Unnamed: 0'], axis=1)\n",
    "dfResult.head()"
   ]
  },
  {
   "cell_type": "code",
   "execution_count": 431,
   "metadata": {},
   "outputs": [
    {
     "data": {
      "text/plain": [
       "0.7022149302707137"
      ]
     },
     "execution_count": 431,
     "metadata": {},
     "output_type": "execute_result"
    }
   ],
   "source": [
    "from sklearn.metrics import accuracy_score\n",
    "accuracy = accuracy_score(dfResult['y'], dfResult['y_pred'])\n",
    "accuracy"
   ]
  },
  {
   "cell_type": "code",
   "execution_count": 485,
   "metadata": {},
   "outputs": [
    {
     "data": {
      "text/plain": [
       "0.883237626469784"
      ]
     },
     "execution_count": 485,
     "metadata": {},
     "output_type": "execute_result"
    }
   ],
   "source": [
    "accuracy = accuracy_score(dfResult['_y'], dfResult['y_pred'])\n",
    "accuracy"
   ]
  },
  {
   "cell_type": "markdown",
   "metadata": {},
   "source": [
    "# Hierarchical Clustering "
   ]
  },
  {
   "cell_type": "code",
   "execution_count": 396,
   "metadata": {},
   "outputs": [],
   "source": [
    "# y_pred: default is (-2), outlier is (-1), predict results range from 0-2\n",
    "wave['y_pred'] = -2\n",
    "for index, value in enumerate(outlier):\n",
    "    if value == -1:\n",
    "        wave['y_pred'][index] = -1\n",
    "# split outlier and predict data \n",
    "dfOutlier = wave.copy()\n",
    "dfOutlier = dfOutlier[dfOutlier.y_pred == -1]\n",
    "dfPredict = wave.copy()\n",
    "dfPredict = dfPredict[dfPredict.y_pred == -2]"
   ]
  },
  {
   "cell_type": "code",
   "execution_count": 397,
   "metadata": {},
   "outputs": [],
   "source": [
    "from sklearn.cluster import AgglomerativeClustering\n",
    "X_std = dfPredict.iloc[:,3:-1]\n",
    "clusterNum = 3\n",
    "hierachicalClustering = AgglomerativeClustering(n_clusters=clusterNum, affinity='euclidean', linkage='ward')  \n",
    "y_pred = hierachicalClustering.fit_predict(X_std)\n",
    "# fill in predict result\n",
    "for i in range(len(dfPredict)):\n",
    "    dfPredict['y_pred'][dfPredict.index.values[i]] = y_pred[i]"
   ]
  },
  {
   "cell_type": "code",
   "execution_count": 410,
   "metadata": {},
   "outputs": [],
   "source": [
    "# sort the predict cluster order \n",
    "cluster = [[0 for x in range(3)] for y in range(clusterNum)] \n",
    "for i in range(clusterNum):\n",
    "    cluster[i][0] = dfPredict[dfPredict['y_pred'] == i].index.values\n",
    "    cluster[i][1] = dfPredict[dfPredict['y_pred'] == i]['votpMean'].mean()\n",
    "    cluster[i][2] = i\n",
    "\n",
    "def getKey(item):\n",
    "    return -item[1]\n",
    "cluster = sorted(cluster, key=getKey)\n",
    "\n",
    "for i in range(clusterNum):\n",
    "    dfPredict.loc[cluster[i][0], 'y_pred'] = i"
   ]
  },
  {
   "cell_type": "code",
   "execution_count": 414,
   "metadata": {},
   "outputs": [],
   "source": [
    "wave = dfPredict.append(dfOutlier)\n",
    "wave = wave.sort_index()\n",
    "# add +1 to each y_pred so that the result will change from -1~2 to 0-3\n",
    "for i in range(len(wave)):\n",
    "    wave.loc[i, 'y_pred'] = wave['y_pred'][i]+1"
   ]
  },
  {
   "cell_type": "code",
   "execution_count": 415,
   "metadata": {},
   "outputs": [
    {
     "data": {
      "image/png": "[encoded data removed]",
      "text/plain": [
       "<Figure size 1152x288 with 1 Axes>"
      ]
     },
     "metadata": {},
     "output_type": "display_data"
    }
   ],
   "source": [
    "plt.figure(figsize=(16,4))\n",
    "plt.plot(wave['y_pred'],'.', color='r')\n",
    "plt.yticks(list(set(wave['y_pred'])))\n",
    "plt.show()"
   ]
  },
  {
   "cell_type": "code",
   "execution_count": 96,
   "metadata": {},
   "outputs": [
    {
     "data": {
      "text/plain": [
       "<matplotlib.axes._subplots.AxesSubplot at 0x27ca53c0198>"
      ]
     },
     "execution_count": 96,
     "metadata": {},
     "output_type": "execute_result"
    },
    {
     "data": {
      "image/png": "[encoded data removed]",
      "text/plain": [
       "<Figure size 1152x288 with 1 Axes>"
      ]
     },
     "metadata": {},
     "output_type": "display_data"
    }
   ],
   "source": [
    "import seaborn as sns\n",
    "plt.figure(figsize=(16,4))\n",
    "sns.swarmplot(x=wave['startIndex'], y=wave['y_pred'])"
   ]
  },
  {
   "cell_type": "code",
   "execution_count": 416,
   "metadata": {},
   "outputs": [],
   "source": [
    "# put the result from wave to dfAll\n",
    "dfAll['y_pred'] = 0\n",
    "for i in range(len(wave)-2):\n",
    "    start = int(wave['startIndex'][i])\n",
    "    end = int(wave['endIndex'][i])\n",
    "    y_pred = int(wave['y_pred'][i])\n",
    "    dfAll['y_pred'][start:end] = y_pred"
   ]
  },
  {
   "cell_type": "code",
   "execution_count": 417,
   "metadata": {},
   "outputs": [],
   "source": [
    "# dfAll[['time','y_pred']].to_csv(\"result_chanHon_hier.csv\")"
   ]
  },
  {
   "cell_type": "code",
   "execution_count": 423,
   "metadata": {},
   "outputs": [
    {
     "data": {
      "text/html": [
       "<div>\n",
       "<style scoped>\n",
       "    .dataframe tbody tr th:only-of-type {\n",
       "        vertical-align: middle;\n",
       "    }\n",
       "\n",
       "    .dataframe tbody tr th {\n",
       "        vertical-align: top;\n",
       "    }\n",
       "\n",
       "    .dataframe thead th {\n",
       "        text-align: right;\n",
       "    }\n",
       "</style>\n",
       "<table border=\"1\" class=\"dataframe\">\n",
       "  <thead>\n",
       "    <tr style=\"text-align: right;\">\n",
       "      <th></th>\n",
       "      <th>time</th>\n",
       "      <th>y</th>\n",
       "      <th>_y</th>\n",
       "      <th>y_pred</th>\n",
       "    </tr>\n",
       "  </thead>\n",
       "  <tbody>\n",
       "    <tr>\n",
       "      <th>0</th>\n",
       "      <td>34:50.1</td>\n",
       "      <td>0</td>\n",
       "      <td>0</td>\n",
       "      <td>1</td>\n",
       "    </tr>\n",
       "    <tr>\n",
       "      <th>1</th>\n",
       "      <td>34:50.2</td>\n",
       "      <td>0</td>\n",
       "      <td>0</td>\n",
       "      <td>1</td>\n",
       "    </tr>\n",
       "    <tr>\n",
       "      <th>2</th>\n",
       "      <td>34:50.2</td>\n",
       "      <td>0</td>\n",
       "      <td>0</td>\n",
       "      <td>1</td>\n",
       "    </tr>\n",
       "    <tr>\n",
       "      <th>3</th>\n",
       "      <td>34:50.2</td>\n",
       "      <td>0</td>\n",
       "      <td>0</td>\n",
       "      <td>1</td>\n",
       "    </tr>\n",
       "    <tr>\n",
       "      <th>4</th>\n",
       "      <td>34:50.3</td>\n",
       "      <td>0</td>\n",
       "      <td>0</td>\n",
       "      <td>1</td>\n",
       "    </tr>\n",
       "  </tbody>\n",
       "</table>\n",
       "</div>"
      ],
      "text/plain": [
       "      time  y  _y  y_pred\n",
       "0  34:50.1  0   0       1\n",
       "1  34:50.2  0   0       1\n",
       "2  34:50.2  0   0       1\n",
       "3  34:50.2  0   0       1\n",
       "4  34:50.3  0   0       1"
      ]
     },
     "execution_count": 423,
     "metadata": {},
     "output_type": "execute_result"
    }
   ],
   "source": [
    "dfResult = pd.read_csv(\"result_chanHon_hier.csv\").drop(['Unnamed: 0'], axis=1)\n",
    "dfResult.head()"
   ]
  },
  {
   "cell_type": "code",
   "execution_count": 424,
   "metadata": {},
   "outputs": [
    {
     "data": {
      "text/plain": [
       "0.6622914957615532"
      ]
     },
     "execution_count": 424,
     "metadata": {},
     "output_type": "execute_result"
    }
   ],
   "source": [
    "from sklearn.metrics import accuracy_score\n",
    "accuracy = accuracy_score(dfResult['y'], dfResult['y_pred'])\n",
    "accuracy"
   ]
  },
  {
   "cell_type": "code",
   "execution_count": 425,
   "metadata": {},
   "outputs": [
    {
     "data": {
      "text/plain": [
       "0.8115942028985508"
      ]
     },
     "execution_count": 425,
     "metadata": {},
     "output_type": "execute_result"
    }
   ],
   "source": [
    "accuracy = accuracy_score(dfResult['_y'], dfResult['y_pred'])\n",
    "accuracy"
   ]
  },
  {
   "cell_type": "code",
   "execution_count": null,
   "metadata": {},
   "outputs": [],
   "source": []
  },
  {
   "cell_type": "markdown",
   "metadata": {},
   "source": [
    "# Birch"
   ]
  },
  {
   "cell_type": "code",
   "execution_count": 133,
   "metadata": {},
   "outputs": [],
   "source": [
    "# y_pred: default is (-2), outlier is (-1), predict results range from 0-2\n",
    "wave['y_pred'] = -2\n",
    "for index, value in enumerate(outlier):\n",
    "    if value == -1:\n",
    "        wave['y_pred'][index] = -1\n",
    "# split outlier and predict data \n",
    "dfOutlier = wave.copy()\n",
    "dfOutlier = dfOutlier[dfOutlier.y_pred == -1]\n",
    "dfPredict = wave.copy()\n",
    "dfPredict = dfPredict[dfPredict.y_pred == -2]"
   ]
  },
  {
   "cell_type": "code",
   "execution_count": 134,
   "metadata": {},
   "outputs": [],
   "source": [
    "from sklearn.cluster import Birch\n",
    "X_std = dfPredict.iloc[:,3:-1]\n",
    "clusterNum = 3\n",
    "\n",
    "brc = Birch(branching_factor=50, n_clusters=clusterNum, threshold=0.5,\n",
    "compute_labels=True).fit(X_std)\n",
    "y_pred = brc.predict(X_std)\n",
    "y_pred\n",
    "\n",
    "# fill in predict result\n",
    "for i in range(len(dfPredict)):\n",
    "    dfPredict['y_pred'][dfPredict.index.values[i]] = y_pred[i]"
   ]
  },
  {
   "cell_type": "code",
   "execution_count": 135,
   "metadata": {},
   "outputs": [],
   "source": [
    "wave = dfPredict.append(dfOutlier)\n",
    "wave.sort_index()\n",
    "# add +1 to each y_pred so that the result will change from -1~2 to 0-3\n",
    "for i in range(len(wave)):\n",
    "    wave.loc[i, 'y_pred'] = wave['y_pred'][i]+1"
   ]
  },
  {
   "cell_type": "code",
   "execution_count": 136,
   "metadata": {},
   "outputs": [],
   "source": [
    "# sort the predict cluster order \n",
    "cluster = [[0 for x in range(3)] for y in range(clusterNum)] \n",
    "for i in range(clusterNum):\n",
    "    cluster[i][0] = wave[wave['y_pred'] == i].index.values\n",
    "    cluster[i][1] = wave[wave['y_pred'] == i]['max'].mean()\n",
    "    cluster[i][2] = i\n",
    "\n",
    "def getKey(item):\n",
    "    return item[1]\n",
    "cluster = sorted(cluster, key=getKey)\n",
    "\n",
    "for i in range(clusterNum):\n",
    "    wave.loc[cluster[i][0], 'y_pred'] = i"
   ]
  },
  {
   "cell_type": "code",
   "execution_count": 137,
   "metadata": {},
   "outputs": [
    {
     "data": {
      "image/png": "[encoded data removed]",
      "text/plain": [
       "<Figure size 1152x288 with 1 Axes>"
      ]
     },
     "metadata": {},
     "output_type": "display_data"
    }
   ],
   "source": [
    "plt.figure(figsize=(16,4))\n",
    "plt.plot(wave['y_pred'],'.', color='r')\n",
    "plt.yticks(list(set(wave['y_pred'])))\n",
    "plt.show()"
   ]
  },
  {
   "cell_type": "code",
   "execution_count": null,
   "metadata": {},
   "outputs": [],
   "source": []
  },
  {
   "cell_type": "code",
   "execution_count": null,
   "metadata": {},
   "outputs": [],
   "source": []
  },
  {
   "cell_type": "code",
   "execution_count": null,
   "metadata": {},
   "outputs": [],
   "source": []
  },
  {
   "cell_type": "code",
   "execution_count": null,
   "metadata": {},
   "outputs": [],
   "source": [
    "gmm = mixture.GMM(covariance_type='full', n_components=4)\n",
    "gmm.fit(X_std)\n",
    "y_pred_gmm = gmm.predict(X_std)"
   ]
  },
  {
   "cell_type": "code",
   "execution_count": null,
   "metadata": {},
   "outputs": [],
   "source": [
    "plt.figure(figsize=(16,4))\n",
    "#plt.plot(y)\n",
    "plt.plot(y_pred_gmm,'*', color='r')\n",
    "plt.yticks(list(set(y_pred_gmm)))\n",
    "plt.show()"
   ]
  },
  {
   "cell_type": "code",
   "execution_count": null,
   "metadata": {},
   "outputs": [],
   "source": []
  },
  {
   "cell_type": "code",
   "execution_count": null,
   "metadata": {},
   "outputs": [],
   "source": [
    "# 我覺得 R, L 要分開跑欸 ， 時間點上會有點重複ㄅ 而且這樣畫的圖 比較難跟原本的圖比較 x軸變長的感覺? ->這個不會吧 就只是跑到下一個peak的時間都被除以二的概念?\n",
    "# 我的想法拉 給你參考\n",
    "# 是我的話 先跑完R的 不是波的分類ㄇ 我會把全部的點 照他在哪個波裡 幫她標上類別 \n",
    "# 然後有兩隻腳 都這樣跑一次  ， 甚至 現在是跑 peak 如果加上 valley 每個點就有4次分類的結果\n",
    "# 也許可以用多數決的方式 幫每個點分類??????????? QQ\n",
    "# 而且! 你現在只是 0~3 的分類沒有意義 得再弄規則 轉成有意義的 0 就是 沒再走之類的啥意思\n",
    "# 現在分成 0 的 不代表一定就是沒再走    3 也不一定就是跑步這樣ㄅ???????????????????????\n",
    "\n",
    "# 感覺只是左腳分得比較不好XDD 鰻爛的XDD"
   ]
  }
 ],
 "metadata": {
  "kernelspec": {
   "display_name": "Python 3",
   "language": "python",
   "name": "python3"
  },
  "language_info": {
   "codemirror_mode": {
    "name": "ipython",
    "version": 3
   },
   "file_extension": ".py",
   "mimetype": "text/x-python",
   "name": "python",
   "nbconvert_exporter": "python",
   "pygments_lexer": "ipython3",
   "version": "3.5.5"
  }
 },
 "nbformat": 4,
 "nbformat_minor": 2
}
